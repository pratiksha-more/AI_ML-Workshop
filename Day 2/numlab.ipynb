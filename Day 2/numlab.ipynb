{
 "cells": [
  {
   "cell_type": "code",
   "execution_count": 1,
   "id": "1f1bfa3e-125c-43f4-a680-f6b62703c46b",
   "metadata": {},
   "outputs": [
    {
     "name": "stdout",
     "output_type": "stream",
     "text": [
      "Energy Consumption (in MWH) for Different Renewable Sourse : \n",
      "[1200 3400 2900 1800 2500]\n"
     ]
    }
   ],
   "source": [
    "import numpy as np\n",
    "energy_consumption=np.array([1200,3400,2900,1800,2500])\n",
    "print(\"Energy Consumption (in MWH) for Different Renewable Sourse : \")\n",
    "print(energy_consumption)"
   ]
  },
  {
   "cell_type": "code",
   "execution_count": 2,
   "id": "c9044b08-5639-477f-88be-f46848d07e74",
   "metadata": {},
   "outputs": [
    {
     "name": "stdout",
     "output_type": "stream",
     "text": [
      "\n",
      " Total Energy Consumptoin :11800 MWh\n"
     ]
    }
   ],
   "source": [
    "total_consumption=np.sum(energy_consumption)\n",
    "print(f\"\\n Total Energy Consumptoin :{total_consumption} MWh\")"
   ]
  },
  {
   "cell_type": "code",
   "execution_count": 3,
   "id": "44224eab-3f88-4e78-86f9-fb862a110f47",
   "metadata": {},
   "outputs": [
    {
     "name": "stdout",
     "output_type": "stream",
     "text": [
      "\n",
      " Mean Energy Consumptoin :2360.0 MWh\n"
     ]
    }
   ],
   "source": [
    "mean_consumption=np.mean(energy_consumption)\n",
    "print(f\"\\n Mean Energy Consumptoin :{mean_consumption} MWh\")"
   ]
  },
  {
   "cell_type": "code",
   "execution_count": 4,
   "id": "e6f7e51e-07e9-4ca7-8509-7037b1993696",
   "metadata": {},
   "outputs": [
    {
     "name": "stdout",
     "output_type": "stream",
     "text": [
      "\n",
      " Standard Deviation :781.28 MWh\n"
     ]
    }
   ],
   "source": [
    "std_deviation=np.std(energy_consumption)\n",
    "print(f\"\\n Standard Deviation :{std_deviation:.2f} MWh\")"
   ]
  },
  {
   "cell_type": "code",
   "execution_count": 5,
   "id": "9e7655df-3fee-4127-925b-41adb865dc9e",
   "metadata": {},
   "outputs": [
    {
     "name": "stdout",
     "output_type": "stream",
     "text": [
      "\n",
      " Reshaped Energy Consumption Array (5*10):\n",
      "[[1200]\n",
      " [3400]\n",
      " [2900]\n",
      " [1800]\n",
      " [2500]]\n"
     ]
    }
   ],
   "source": [
    "reshaped_array=energy_consumption.reshape((5,1))\n",
    "print(\"\\n Reshaped Energy Consumption Array (5*10):\")\n",
    "print(reshaped_array)"
   ]
  },
  {
   "cell_type": "code",
   "execution_count": null,
   "id": "4fac4246-714b-4b93-9c74-0baf00a71b99",
   "metadata": {},
   "outputs": [],
   "source": []
  }
 ],
 "metadata": {
  "kernelspec": {
   "display_name": "Python 3 (ipykernel)",
   "language": "python",
   "name": "python3"
  },
  "language_info": {
   "codemirror_mode": {
    "name": "ipython",
    "version": 3
   },
   "file_extension": ".py",
   "mimetype": "text/x-python",
   "name": "python",
   "nbconvert_exporter": "python",
   "pygments_lexer": "ipython3",
   "version": "3.11.7"
  }
 },
 "nbformat": 4,
 "nbformat_minor": 5
}
