{
 "cells": [
  {
   "cell_type": "markdown",
   "id": "6c341362-fff7-4001-91e3-1ce7fbf38dfc",
   "metadata": {},
   "source": [
    "### D"
   ]
  },
  {
   "cell_type": "code",
   "execution_count": 5,
   "id": "9887eee4-9a31-41c0-b45b-9d898a5beaa7",
   "metadata": {},
   "outputs": [],
   "source": [
    "import pandas as pd\n",
    "import numpy as np\n",
    "\n",
    "#Sample data with missing Values\n",
    "data={\n",
    "    \"Energy Source\": [\"Solar\",\"Wind\",\"Hydropower\",\"Geothermal\",\"Biomass\",\"Nuclear\"],\n",
    "    \"Energy Consumption(MWh)\":[1200,np.nan,2900,np.nan,2500,3200],\n",
    "    \"Cost (Million $)\":[200,400,np.nan,150,250,np.nan]\n",
    "}\n"
   ]
  },
  {
   "cell_type": "code",
   "execution_count": 2,
   "id": "f97f2d8a-e679-4541-b002-2397d56d3f08",
   "metadata": {},
   "outputs": [
    {
     "name": "stdout",
     "output_type": "stream",
     "text": [
      "{'Energy Source': ['Solar', 'Wind', 'Hydropower', 'Geothermal', 'Biomass', 'Nuclear'], 'Energy Consumption(MWh)': [1200, nan, 2900, nan, 2500, 3200], 'Cost (Million $)': [200, 400, nan, 150, 250, nan]}\n"
     ]
    }
   ],
   "source": [
    "print(data)"
   ]
  },
  {
   "cell_type": "code",
   "execution_count": 4,
   "id": "62968ea7-03bb-4f62-8bbf-59aeff8e54bc",
   "metadata": {},
   "outputs": [
    {
     "name": "stdout",
     "output_type": "stream",
     "text": [
      "Original Energy Data with Missing Values: \n",
      "  Energy Source  Energy Consumption(MWh)  Cost (Million $)\n",
      "0         Solar                   1200.0             200.0\n",
      "1          Wind                      NaN             400.0\n",
      "2    Hydropower                   2900.0               NaN\n",
      "3    Geothermal                      NaN             150.0\n",
      "4       Biomass                   2500.0             250.0\n",
      "5       Nuclear                   3200.0               NaN\n"
     ]
    }
   ],
   "source": [
    "energy_df=pd.DataFrame(data)\n",
    "print(\"Original Energy Data with Missing Values: \")\n",
    "print(energy_df)"
   ]
  },
  {
   "cell_type": "code",
   "execution_count": 6,
   "id": "b09914b3-57ff-41b2-9f16-2ade6737b2bc",
   "metadata": {},
   "outputs": [
    {
     "data": {
      "text/plain": [
       "Energy Source              0\n",
       "Energy Consumption(MWh)    2\n",
       "Cost (Million $)           2\n",
       "dtype: int64"
      ]
     },
     "execution_count": 6,
     "metadata": {},
     "output_type": "execute_result"
    }
   ],
   "source": [
    "energy_df.isnull().sum()"
   ]
  },
  {
   "cell_type": "code",
   "execution_count": null,
   "id": "9deb3be4-89ea-4f4b-bf95-6e6a273b9c8f",
   "metadata": {},
   "outputs": [],
   "source": []
  },
  {
   "cell_type": "code",
   "execution_count": 7,
   "id": "e34333d8-52b9-4174-bd57-304547a83d1b",
   "metadata": {},
   "outputs": [
    {
     "data": {
      "text/plain": [
       "4"
      ]
     },
     "execution_count": 7,
     "metadata": {},
     "output_type": "execute_result"
    }
   ],
   "source": [
    "energy_df.isnull().sum().sum()"
   ]
  },
  {
   "cell_type": "code",
   "execution_count": 8,
   "id": "95e430c0-212e-4906-8b41-807c9ebfc45b",
   "metadata": {},
   "outputs": [
    {
     "name": "stdout",
     "output_type": "stream",
     "text": [
      "\n",
      " DAta After Removing Rows With Missing Values : \n",
      "  Energy Source  Energy Consumption(MWh)  Cost (Million $)\n",
      "0         Solar                   1200.0             200.0\n",
      "4       Biomass                   2500.0             250.0\n"
     ]
    }
   ],
   "source": [
    "cleaned_df=energy_df.dropna()   #command used for drop a value or remove a rows \n",
    "print(\"\\n DAta After Removing Rows With Missing Values : \")\n",
    "print(cleaned_df)\n",
    " "
   ]
  },
  {
   "cell_type": "markdown",
   "id": "b6747644-84e3-42ec-ae7e-359cfdb08361",
   "metadata": {},
   "source": [
    "## Impute Missing Value with the Mean()"
   ]
  },
  {
   "cell_type": "code",
   "execution_count": 21,
   "id": "c9b53b4b-ce7a-4f69-9e64-575d46ae0edf",
   "metadata": {},
   "outputs": [
    {
     "name": "stdout",
     "output_type": "stream",
     "text": [
      "\n",
      "Data After Imputing Missing Values with Mean:\n",
      "  Energy Source  Energy Consumption(MWh)  Cost (Million $)  Missing Values\n",
      "0         Solar                   1200.0             200.0               0\n",
      "1          Wind                   2450.0             400.0               1\n",
      "2    Hydropower                   2900.0             250.0               0\n",
      "3    Geothermal                   2450.0             150.0               1\n",
      "4       Biomass                   2500.0             250.0               0\n",
      "5       Nuclear                   3200.0             250.0               0\n"
     ]
    }
   ],
   "source": [
    "import warnings\n",
    "warnings.filterwarnings('ignore')\n",
    "\n",
    "energy_df[\"Energy Consumption(MWh)\"].fillna(energy_df[\"Energy Consumption(MWh)\"].mean(), inplace=True)\n",
    "energy_df[\"Cost (Million $)\"].fillna(energy_df[\"Cost (Million $)\"].mean(), inplace=True)\n",
    "\n",
    "print(\"\\nData After Imputing Missing Values with Mean:\")\n",
    "print(energy_df)\n"
   ]
  },
  {
   "cell_type": "code",
   "execution_count": 14,
   "id": "c12bdb1d-70ce-48cf-bfa4-9ae0f205b2f1",
   "metadata": {},
   "outputs": [],
   "source": [
    "import warnings\n",
    "warnings.filterwarnings('ignore')"
   ]
  },
  {
   "cell_type": "code",
   "execution_count": 16,
   "id": "691c2de4-d7d6-4ee3-8232-15ce6bd2f6c2",
   "metadata": {},
   "outputs": [
    {
     "name": "stdout",
     "output_type": "stream",
     "text": [
      "\n",
      " Data After Forward Filling Missing Values :\n",
      "  Energy Source  Energy Consumption(MWh)  Cost (Million $)\n",
      "0         Solar                   1200.0             200.0\n",
      "1          Wind                   1200.0             400.0\n",
      "2    Hydropower                   2900.0             400.0\n",
      "3    Geothermal                   2900.0             150.0\n",
      "4       Biomass                   2500.0             250.0\n",
      "5       Nuclear                   3200.0             250.0\n"
     ]
    }
   ],
   "source": [
    "forward_filled_df=energy_df.fillna(method=\"ffill\")\n",
    "print(\"\\n Data After Forward Filling Missing Values :\")\n",
    "print(forward_filled_df)"
   ]
  },
  {
   "cell_type": "code",
   "execution_count": 20,
   "id": "55e58a5c-bd03-45b5-b88c-5bcdbd39329e",
   "metadata": {},
   "outputs": [
    {
     "name": "stdout",
     "output_type": "stream",
     "text": [
      "\n",
      " Data After Adding Missing Values Column :\n",
      "  Energy Source  Energy Consumption(MWh)  Cost (Million $)  Missing Values\n",
      "0         Solar                   1200.0             200.0               0\n",
      "1          Wind                      NaN             400.0               1\n",
      "2    Hydropower                   2900.0               NaN               0\n",
      "3    Geothermal                      NaN             150.0               1\n",
      "4       Biomass                   2500.0             250.0               0\n",
      "5       Nuclear                   3200.0               NaN               0\n"
     ]
    }
   ],
   "source": [
    "energy_df[\"Missing Values\"]=energy_df[\"Energy Consumption(MWh)\"].isna().astype(int)\n",
    "print(\"\\n Data After Adding Missing Values Column :\")\n",
    "print(energy_df)"
   ]
  },
  {
   "cell_type": "code",
   "execution_count": 24,
   "id": "f46e8030-c363-484c-8754-198196ea815e",
   "metadata": {},
   "outputs": [
    {
     "name": "stdout",
     "output_type": "stream",
     "text": [
      "\n",
      " Data After Scaling :\n",
      "  Energy Source  Energy Consumption(MWh)  Cost (Million $)  Missing Values\n",
      "0         Solar                    0.000               0.2               0\n",
      "1          Wind                    0.625               1.0               1\n",
      "2    Hydropower                    0.850               0.4               0\n",
      "3    Geothermal                    0.625               0.0               1\n",
      "4       Biomass                    0.650               0.4               0\n",
      "5       Nuclear                    1.000               0.4               0\n"
     ]
    }
   ],
   "source": [
    "from sklearn.preprocessing import MinMaxScaler\n",
    "\n",
    "scaler=MinMaxScaler()\n",
    "energy_df[[\"Energy Consumption(MWh)\",\"Cost (Million $)\"]]=scaler.fit_transform(energy_df[[\"Energy Consumption(MWh)\",\"Cost (Million $)\"]])   #command used for scaling the data\n",
    "print(\"\\n Data After Scaling :\")\n",
    "print(energy_df)"
   ]
  },
  {
   "cell_type": "code",
   "execution_count": 25,
   "id": "a8a39940-340b-41bf-a74f-e7f7a67329dc",
   "metadata": {},
   "outputs": [
    {
     "name": "stdout",
     "output_type": "stream",
     "text": [
      "\n",
      " Data After Scaling :\n",
      "  Energy Source  Energy Consumption(MWh)  Cost (Million $)  Missing Values\n",
      "0         Solar            -2.005893e+00     -6.546537e-01               0\n",
      "1          Wind             3.563181e-16      1.963961e+00               1\n",
      "2    Hydropower             7.221213e-01      1.817029e-16               0\n",
      "3    Geothermal             3.563181e-16     -1.309307e+00               1\n",
      "4       Biomass             8.023570e-02      1.817029e-16               0\n",
      "5       Nuclear             1.203536e+00      1.817029e-16               0\n"
     ]
    }
   ],
   "source": [
    "from sklearn.preprocessing import StandardScaler\n",
    "\n",
    "scaler=StandardScaler()\n",
    "energy_df[[\"Energy Consumption(MWh)\",\"Cost (Million $)\"]]=scaler.fit_transform(energy_df[[\"Energy Consumption(MWh)\",\"Cost (Million $)\"]])   #command used for scaling the data\n",
    "print(\"\\n Data After Scaling :\")\n",
    "print(energy_df)"
   ]
  },
  {
   "cell_type": "code",
   "execution_count": 26,
   "id": "3506b953-3c16-4555-be27-081aa4933af7",
   "metadata": {},
   "outputs": [
    {
     "name": "stdout",
     "output_type": "stream",
     "text": [
      "\n",
      " Data After One Hot Encoding :\n",
      "   Energy Consumption(MWh)  Cost (Million $)  Missing Values  \\\n",
      "0            -2.005893e+00     -6.546537e-01               0   \n",
      "1             3.563181e-16      1.963961e+00               1   \n",
      "2             7.221213e-01      1.817029e-16               0   \n",
      "3             3.563181e-16     -1.309307e+00               1   \n",
      "4             8.023570e-02      1.817029e-16               0   \n",
      "5             1.203536e+00      1.817029e-16               0   \n",
      "\n",
      "   Energy Source_Biomass  Energy Source_Geothermal  Energy Source_Hydropower  \\\n",
      "0                  False                     False                     False   \n",
      "1                  False                     False                     False   \n",
      "2                  False                     False                      True   \n",
      "3                  False                      True                     False   \n",
      "4                   True                     False                     False   \n",
      "5                  False                     False                     False   \n",
      "\n",
      "   Energy Source_Nuclear  Energy Source_Solar  Energy Source_Wind  \n",
      "0                  False                 True               False  \n",
      "1                  False                False                True  \n",
      "2                  False                False               False  \n",
      "3                  False                False               False  \n",
      "4                  False                False               False  \n",
      "5                   True                False               False  \n"
     ]
    }
   ],
   "source": [
    "energy_encode_df=pd.get_dummies(energy_df,columns=[\"Energy Source\"])\n",
    "print(\"\\n Data After One Hot Encoding :\")\n",
    "print(energy_encode_df)"
   ]
  },
  {
   "cell_type": "markdown",
   "id": "d0cedf73-60e0-4966-be36-a7445c26f493",
   "metadata": {},
   "source": [
    "### Feature Engineering"
   ]
  },
  {
   "cell_type": "code",
   "execution_count": 27,
   "id": "37a052a5-ca45-4200-bf3d-6c37230598ce",
   "metadata": {},
   "outputs": [
    {
     "name": "stdout",
     "output_type": "stream",
     "text": [
      "\n",
      " Data After Adding New Column :\n",
      "   Energy Consumption(MWh)  Cost (Million $)  Missing Values  \\\n",
      "0            -2.005893e+00     -6.546537e-01               0   \n",
      "1             3.563181e-16      1.963961e+00               1   \n",
      "2             7.221213e-01      1.817029e-16               0   \n",
      "3             3.563181e-16     -1.309307e+00               1   \n",
      "4             8.023570e-02      1.817029e-16               0   \n",
      "5             1.203536e+00      1.817029e-16               0   \n",
      "\n",
      "   Energy Source_Biomass  Energy Source_Geothermal  Energy Source_Hydropower  \\\n",
      "0                  False                     False                     False   \n",
      "1                  False                     False                     False   \n",
      "2                  False                     False                      True   \n",
      "3                  False                      True                     False   \n",
      "4                   True                     False                     False   \n",
      "5                  False                     False                     False   \n",
      "\n",
      "   Energy Source_Nuclear  Energy Source_Solar  Energy Source_Wind  \\\n",
      "0                  False                 True               False   \n",
      "1                  False                False                True   \n",
      "2                  False                False               False   \n",
      "3                  False                False               False   \n",
      "4                  False                False               False   \n",
      "5                   True                False               False   \n",
      "\n",
      "   Consumption per $Million  \n",
      "0              3.064052e+00  \n",
      "1              1.814283e-16  \n",
      "2              3.974187e+15  \n",
      "3             -2.721424e-16  \n",
      "4              4.415764e+14  \n",
      "5              6.623646e+15  \n"
     ]
    }
   ],
   "source": [
    "energy_encode_df[\"Consumption per $Million\"]=energy_encode_df[\"Energy Consumption(MWh)\"]/energy_encode_df[\"Cost (Million $)\"]\n",
    "print(\"\\n Data After Adding New Column :\")\n",
    "print(energy_encode_df)"
   ]
  },
  {
   "cell_type": "code",
   "execution_count": null,
   "id": "df1674c4-f4bb-44b5-97a6-ebd3942b154e",
   "metadata": {},
   "outputs": [],
   "source": []
  }
 ],
 "metadata": {
  "kernelspec": {
   "display_name": "Python 3 (ipykernel)",
   "language": "python",
   "name": "python3"
  },
  "language_info": {
   "codemirror_mode": {
    "name": "ipython",
    "version": 3
   },
   "file_extension": ".py",
   "mimetype": "text/x-python",
   "name": "python",
   "nbconvert_exporter": "python",
   "pygments_lexer": "ipython3",
   "version": "3.11.7"
  }
 },
 "nbformat": 4,
 "nbformat_minor": 5
}
