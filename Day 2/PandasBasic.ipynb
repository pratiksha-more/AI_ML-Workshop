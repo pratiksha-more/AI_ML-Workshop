{
 "cells": [
  {
   "cell_type": "code",
   "execution_count": 1,
   "id": "2f379ef3-4dc0-4d86-9cad-ef140aa327fb",
   "metadata": {},
   "outputs": [],
   "source": [
    "import pandas as pd\n",
    "\n",
    "renewable_sources=[\"Solor\",\"Wind\",\"Hydro\",\"Geothermal\",\"Biomass\"]\n",
    "\n",
    "data={\n",
    "    \"Project\":[\"Solar Farm A\",\"Wind Turbine X\",\"Hydropower Y \",\"Solar Roof B\",\"Geothermal Plant Z\"],\n",
    "    \"Technology\":[\"Solar\",\"Wind\",\"Hydropower\",\"Solar\",\"Geothermal\"],\n",
    "    \"Capacity(MW)\":[150,300,200,50,100],\n",
    "    \"cost(Million $)\":[200,400,350,100,250],\n",
    "    \"Location\":[\"California\",\"Texas\",\"Washington\",\"Nevada\",\"Idaho\"],\n",
    "    \"Completion Year\":[2023,2024,2022,2025,2023]\n",
    "\n",
    "}"
   ]
  },
  {
   "cell_type": "code",
   "execution_count": 2,
   "id": "3e2fb85e-a8f9-45bb-b832-3af905c96842",
   "metadata": {},
   "outputs": [
    {
     "data": {
      "text/plain": [
       "{'Project': ['Solar Farm A',\n",
       "  'Wind Turbine X',\n",
       "  'Hydropower Y ',\n",
       "  'Solar Roof B',\n",
       "  'Geothermal Plant Z'],\n",
       " 'Technology': ['Solar', 'Wind', 'Hydropower', 'Solar', 'Geothermal'],\n",
       " 'Capacity(MW)': [150, 300, 200, 50, 100],\n",
       " 'cost(Million $)': [200, 400, 350, 100, 250],\n",
       " 'Location': ['California', 'Texas', 'Washington', 'Nevada', 'Idaho'],\n",
       " 'Completion Year': [2023, 2024, 2022, 2025, 2023]}"
      ]
     },
     "execution_count": 2,
     "metadata": {},
     "output_type": "execute_result"
    }
   ],
   "source": [
    "data"
   ]
  },
  {
   "cell_type": "markdown",
   "id": "aeee54bd-a758-46bf-b6a1-f7d8442a997c",
   "metadata": {},
   "source": [
    "### Create a Pandas Series for Renewable Energy Sourse\n"
   ]
  },
  {
   "cell_type": "code",
   "execution_count": 4,
   "id": "6f404994-d8e2-4967-adae-e37c499a489d",
   "metadata": {},
   "outputs": [
    {
     "name": "stdout",
     "output_type": "stream",
     "text": [
      "****Renewable Series****\n",
      "0         Solor\n",
      "1          Wind\n",
      "2         Hydro\n",
      "3    Geothermal\n",
      "4       Biomass\n",
      "dtype: object\n"
     ]
    }
   ],
   "source": [
    "renewable_series=pd.Series(renewable_sources)\n",
    "print(\"****Renewable Series****\")\n",
    "print(renewable_series)"
   ]
  },
  {
   "cell_type": "markdown",
   "id": "ac825021-c270-46d8-a3f2-d2da3b8bdf54",
   "metadata": {},
   "source": [
    "### Create a DataFrame for green technology project\n"
   ]
  },
  {
   "cell_type": "code",
   "execution_count": 5,
   "id": "d2166be9-8fa1-409b-b871-a192563b10da",
   "metadata": {},
   "outputs": [
    {
     "name": "stdout",
     "output_type": "stream",
     "text": [
      "****Project Data Frame****\n",
      "              Project  Technology  Capacity(MW)  cost(Million $)    Location  \\\n",
      "0        Solar Farm A       Solar           150              200  California   \n",
      "1      Wind Turbine X        Wind           300              400       Texas   \n",
      "2       Hydropower Y   Hydropower           200              350  Washington   \n",
      "3        Solar Roof B       Solar            50              100      Nevada   \n",
      "4  Geothermal Plant Z  Geothermal           100              250       Idaho   \n",
      "\n",
      "   Completion Year  \n",
      "0             2023  \n",
      "1             2024  \n",
      "2             2022  \n",
      "3             2025  \n",
      "4             2023  \n"
     ]
    }
   ],
   "source": [
    "project_df=pd.DataFrame(data)\n",
    "print(\"****Project Data Frame****\")\n",
    "print(project_df)"
   ]
  },
  {
   "cell_type": "markdown",
   "id": "23c8e3f8-df5f-4c41-a575-7d884e804721",
   "metadata": {},
   "source": [
    "### Head()"
   ]
  },
  {
   "cell_type": "code",
   "execution_count": 7,
   "id": "bb142ee7-f96b-4437-8137-52b9d771a9d2",
   "metadata": {},
   "outputs": [
    {
     "data": {
      "text/html": [
       "<div>\n",
       "<style scoped>\n",
       "    .dataframe tbody tr th:only-of-type {\n",
       "        vertical-align: middle;\n",
       "    }\n",
       "\n",
       "    .dataframe tbody tr th {\n",
       "        vertical-align: top;\n",
       "    }\n",
       "\n",
       "    .dataframe thead th {\n",
       "        text-align: right;\n",
       "    }\n",
       "</style>\n",
       "<table border=\"1\" class=\"dataframe\">\n",
       "  <thead>\n",
       "    <tr style=\"text-align: right;\">\n",
       "      <th></th>\n",
       "      <th>Project</th>\n",
       "      <th>Technology</th>\n",
       "      <th>Capacity(MW)</th>\n",
       "      <th>cost(Million $)</th>\n",
       "      <th>Location</th>\n",
       "      <th>Completion Year</th>\n",
       "    </tr>\n",
       "  </thead>\n",
       "  <tbody>\n",
       "    <tr>\n",
       "      <th>0</th>\n",
       "      <td>Solar Farm A</td>\n",
       "      <td>Solar</td>\n",
       "      <td>150</td>\n",
       "      <td>200</td>\n",
       "      <td>California</td>\n",
       "      <td>2023</td>\n",
       "    </tr>\n",
       "    <tr>\n",
       "      <th>1</th>\n",
       "      <td>Wind Turbine X</td>\n",
       "      <td>Wind</td>\n",
       "      <td>300</td>\n",
       "      <td>400</td>\n",
       "      <td>Texas</td>\n",
       "      <td>2024</td>\n",
       "    </tr>\n",
       "  </tbody>\n",
       "</table>\n",
       "</div>"
      ],
      "text/plain": [
       "          Project Technology  Capacity(MW)  cost(Million $)    Location  \\\n",
       "0    Solar Farm A      Solar           150              200  California   \n",
       "1  Wind Turbine X       Wind           300              400       Texas   \n",
       "\n",
       "   Completion Year  \n",
       "0             2023  \n",
       "1             2024  "
      ]
     },
     "execution_count": 7,
     "metadata": {},
     "output_type": "execute_result"
    }
   ],
   "source": [
    "project_df.head(2)"
   ]
  },
  {
   "cell_type": "markdown",
   "id": "cf9dd577-b3e5-4c57-b6ee-5e308b821e65",
   "metadata": {},
   "source": [
    "### Info()"
   ]
  },
  {
   "cell_type": "code",
   "execution_count": 8,
   "id": "0b70eeb5-44c9-4819-9eaf-5682148aea65",
   "metadata": {},
   "outputs": [
    {
     "name": "stdout",
     "output_type": "stream",
     "text": [
      "<class 'pandas.core.frame.DataFrame'>\n",
      "RangeIndex: 5 entries, 0 to 4\n",
      "Data columns (total 6 columns):\n",
      " #   Column           Non-Null Count  Dtype \n",
      "---  ------           --------------  ----- \n",
      " 0   Project          5 non-null      object\n",
      " 1   Technology       5 non-null      object\n",
      " 2   Capacity(MW)     5 non-null      int64 \n",
      " 3   cost(Million $)  5 non-null      int64 \n",
      " 4   Location         5 non-null      object\n",
      " 5   Completion Year  5 non-null      int64 \n",
      "dtypes: int64(3), object(3)\n",
      "memory usage: 372.0+ bytes\n"
     ]
    }
   ],
   "source": [
    "project_df.info()"
   ]
  },
  {
   "cell_type": "markdown",
   "id": "9b297d4b-b0d0-4439-af8a-4886e59d92cc",
   "metadata": {},
   "source": [
    "### describe()"
   ]
  },
  {
   "cell_type": "code",
   "execution_count": 9,
   "id": "2c0f1e05-645f-4761-b813-64a3e68d315d",
   "metadata": {},
   "outputs": [
    {
     "data": {
      "text/html": [
       "<div>\n",
       "<style scoped>\n",
       "    .dataframe tbody tr th:only-of-type {\n",
       "        vertical-align: middle;\n",
       "    }\n",
       "\n",
       "    .dataframe tbody tr th {\n",
       "        vertical-align: top;\n",
       "    }\n",
       "\n",
       "    .dataframe thead th {\n",
       "        text-align: right;\n",
       "    }\n",
       "</style>\n",
       "<table border=\"1\" class=\"dataframe\">\n",
       "  <thead>\n",
       "    <tr style=\"text-align: right;\">\n",
       "      <th></th>\n",
       "      <th>Capacity(MW)</th>\n",
       "      <th>cost(Million $)</th>\n",
       "      <th>Completion Year</th>\n",
       "    </tr>\n",
       "  </thead>\n",
       "  <tbody>\n",
       "    <tr>\n",
       "      <th>count</th>\n",
       "      <td>5.00000</td>\n",
       "      <td>5.000000</td>\n",
       "      <td>5.000000</td>\n",
       "    </tr>\n",
       "    <tr>\n",
       "      <th>mean</th>\n",
       "      <td>160.00000</td>\n",
       "      <td>260.000000</td>\n",
       "      <td>2023.400000</td>\n",
       "    </tr>\n",
       "    <tr>\n",
       "      <th>std</th>\n",
       "      <td>96.17692</td>\n",
       "      <td>119.373364</td>\n",
       "      <td>1.140175</td>\n",
       "    </tr>\n",
       "    <tr>\n",
       "      <th>min</th>\n",
       "      <td>50.00000</td>\n",
       "      <td>100.000000</td>\n",
       "      <td>2022.000000</td>\n",
       "    </tr>\n",
       "    <tr>\n",
       "      <th>25%</th>\n",
       "      <td>100.00000</td>\n",
       "      <td>200.000000</td>\n",
       "      <td>2023.000000</td>\n",
       "    </tr>\n",
       "    <tr>\n",
       "      <th>50%</th>\n",
       "      <td>150.00000</td>\n",
       "      <td>250.000000</td>\n",
       "      <td>2023.000000</td>\n",
       "    </tr>\n",
       "    <tr>\n",
       "      <th>75%</th>\n",
       "      <td>200.00000</td>\n",
       "      <td>350.000000</td>\n",
       "      <td>2024.000000</td>\n",
       "    </tr>\n",
       "    <tr>\n",
       "      <th>max</th>\n",
       "      <td>300.00000</td>\n",
       "      <td>400.000000</td>\n",
       "      <td>2025.000000</td>\n",
       "    </tr>\n",
       "  </tbody>\n",
       "</table>\n",
       "</div>"
      ],
      "text/plain": [
       "       Capacity(MW)  cost(Million $)  Completion Year\n",
       "count       5.00000         5.000000         5.000000\n",
       "mean      160.00000       260.000000      2023.400000\n",
       "std        96.17692       119.373364         1.140175\n",
       "min        50.00000       100.000000      2022.000000\n",
       "25%       100.00000       200.000000      2023.000000\n",
       "50%       150.00000       250.000000      2023.000000\n",
       "75%       200.00000       350.000000      2024.000000\n",
       "max       300.00000       400.000000      2025.000000"
      ]
     },
     "execution_count": 9,
     "metadata": {},
     "output_type": "execute_result"
    }
   ],
   "source": [
    "project_df.describe()"
   ]
  },
  {
   "cell_type": "markdown",
   "id": "c05fb52f-75c2-4df8-b6aa-6cc85ac9d80c",
   "metadata": {},
   "source": [
    "### describe() include all"
   ]
  },
  {
   "cell_type": "code",
   "execution_count": 10,
   "id": "974bc215-d713-451f-b655-df674ba4b79a",
   "metadata": {},
   "outputs": [
    {
     "data": {
      "text/html": [
       "<div>\n",
       "<style scoped>\n",
       "    .dataframe tbody tr th:only-of-type {\n",
       "        vertical-align: middle;\n",
       "    }\n",
       "\n",
       "    .dataframe tbody tr th {\n",
       "        vertical-align: top;\n",
       "    }\n",
       "\n",
       "    .dataframe thead th {\n",
       "        text-align: right;\n",
       "    }\n",
       "</style>\n",
       "<table border=\"1\" class=\"dataframe\">\n",
       "  <thead>\n",
       "    <tr style=\"text-align: right;\">\n",
       "      <th></th>\n",
       "      <th>Project</th>\n",
       "      <th>Technology</th>\n",
       "      <th>Capacity(MW)</th>\n",
       "      <th>cost(Million $)</th>\n",
       "      <th>Location</th>\n",
       "      <th>Completion Year</th>\n",
       "    </tr>\n",
       "  </thead>\n",
       "  <tbody>\n",
       "    <tr>\n",
       "      <th>count</th>\n",
       "      <td>5</td>\n",
       "      <td>5</td>\n",
       "      <td>5.00000</td>\n",
       "      <td>5.000000</td>\n",
       "      <td>5</td>\n",
       "      <td>5.000000</td>\n",
       "    </tr>\n",
       "    <tr>\n",
       "      <th>unique</th>\n",
       "      <td>5</td>\n",
       "      <td>4</td>\n",
       "      <td>NaN</td>\n",
       "      <td>NaN</td>\n",
       "      <td>5</td>\n",
       "      <td>NaN</td>\n",
       "    </tr>\n",
       "    <tr>\n",
       "      <th>top</th>\n",
       "      <td>Solar Farm A</td>\n",
       "      <td>Solar</td>\n",
       "      <td>NaN</td>\n",
       "      <td>NaN</td>\n",
       "      <td>California</td>\n",
       "      <td>NaN</td>\n",
       "    </tr>\n",
       "    <tr>\n",
       "      <th>freq</th>\n",
       "      <td>1</td>\n",
       "      <td>2</td>\n",
       "      <td>NaN</td>\n",
       "      <td>NaN</td>\n",
       "      <td>1</td>\n",
       "      <td>NaN</td>\n",
       "    </tr>\n",
       "    <tr>\n",
       "      <th>mean</th>\n",
       "      <td>NaN</td>\n",
       "      <td>NaN</td>\n",
       "      <td>160.00000</td>\n",
       "      <td>260.000000</td>\n",
       "      <td>NaN</td>\n",
       "      <td>2023.400000</td>\n",
       "    </tr>\n",
       "    <tr>\n",
       "      <th>std</th>\n",
       "      <td>NaN</td>\n",
       "      <td>NaN</td>\n",
       "      <td>96.17692</td>\n",
       "      <td>119.373364</td>\n",
       "      <td>NaN</td>\n",
       "      <td>1.140175</td>\n",
       "    </tr>\n",
       "    <tr>\n",
       "      <th>min</th>\n",
       "      <td>NaN</td>\n",
       "      <td>NaN</td>\n",
       "      <td>50.00000</td>\n",
       "      <td>100.000000</td>\n",
       "      <td>NaN</td>\n",
       "      <td>2022.000000</td>\n",
       "    </tr>\n",
       "    <tr>\n",
       "      <th>25%</th>\n",
       "      <td>NaN</td>\n",
       "      <td>NaN</td>\n",
       "      <td>100.00000</td>\n",
       "      <td>200.000000</td>\n",
       "      <td>NaN</td>\n",
       "      <td>2023.000000</td>\n",
       "    </tr>\n",
       "    <tr>\n",
       "      <th>50%</th>\n",
       "      <td>NaN</td>\n",
       "      <td>NaN</td>\n",
       "      <td>150.00000</td>\n",
       "      <td>250.000000</td>\n",
       "      <td>NaN</td>\n",
       "      <td>2023.000000</td>\n",
       "    </tr>\n",
       "    <tr>\n",
       "      <th>75%</th>\n",
       "      <td>NaN</td>\n",
       "      <td>NaN</td>\n",
       "      <td>200.00000</td>\n",
       "      <td>350.000000</td>\n",
       "      <td>NaN</td>\n",
       "      <td>2024.000000</td>\n",
       "    </tr>\n",
       "    <tr>\n",
       "      <th>max</th>\n",
       "      <td>NaN</td>\n",
       "      <td>NaN</td>\n",
       "      <td>300.00000</td>\n",
       "      <td>400.000000</td>\n",
       "      <td>NaN</td>\n",
       "      <td>2025.000000</td>\n",
       "    </tr>\n",
       "  </tbody>\n",
       "</table>\n",
       "</div>"
      ],
      "text/plain": [
       "             Project Technology  Capacity(MW)  cost(Million $)    Location  \\\n",
       "count              5          5       5.00000         5.000000           5   \n",
       "unique             5          4           NaN              NaN           5   \n",
       "top     Solar Farm A      Solar           NaN              NaN  California   \n",
       "freq               1          2           NaN              NaN           1   \n",
       "mean             NaN        NaN     160.00000       260.000000         NaN   \n",
       "std              NaN        NaN      96.17692       119.373364         NaN   \n",
       "min              NaN        NaN      50.00000       100.000000         NaN   \n",
       "25%              NaN        NaN     100.00000       200.000000         NaN   \n",
       "50%              NaN        NaN     150.00000       250.000000         NaN   \n",
       "75%              NaN        NaN     200.00000       350.000000         NaN   \n",
       "max              NaN        NaN     300.00000       400.000000         NaN   \n",
       "\n",
       "        Completion Year  \n",
       "count          5.000000  \n",
       "unique              NaN  \n",
       "top                 NaN  \n",
       "freq                NaN  \n",
       "mean        2023.400000  \n",
       "std            1.140175  \n",
       "min         2022.000000  \n",
       "25%         2023.000000  \n",
       "50%         2023.000000  \n",
       "75%         2024.000000  \n",
       "max         2025.000000  "
      ]
     },
     "execution_count": 10,
     "metadata": {},
     "output_type": "execute_result"
    }
   ],
   "source": [
    "project_df.describe(include='all')"
   ]
  },
  {
   "cell_type": "code",
   "execution_count": 11,
   "id": "4fb5ba8e-96af-403e-9d27-e4b78a365111",
   "metadata": {},
   "outputs": [
    {
     "data": {
      "text/html": [
       "<div>\n",
       "<style scoped>\n",
       "    .dataframe tbody tr th:only-of-type {\n",
       "        vertical-align: middle;\n",
       "    }\n",
       "\n",
       "    .dataframe tbody tr th {\n",
       "        vertical-align: top;\n",
       "    }\n",
       "\n",
       "    .dataframe thead th {\n",
       "        text-align: right;\n",
       "    }\n",
       "</style>\n",
       "<table border=\"1\" class=\"dataframe\">\n",
       "  <thead>\n",
       "    <tr style=\"text-align: right;\">\n",
       "      <th></th>\n",
       "      <th>count</th>\n",
       "      <th>mean</th>\n",
       "      <th>std</th>\n",
       "      <th>min</th>\n",
       "      <th>25%</th>\n",
       "      <th>50%</th>\n",
       "      <th>75%</th>\n",
       "      <th>max</th>\n",
       "    </tr>\n",
       "  </thead>\n",
       "  <tbody>\n",
       "    <tr>\n",
       "      <th>Capacity(MW)</th>\n",
       "      <td>5.0</td>\n",
       "      <td>160.0</td>\n",
       "      <td>96.176920</td>\n",
       "      <td>50.0</td>\n",
       "      <td>100.0</td>\n",
       "      <td>150.0</td>\n",
       "      <td>200.0</td>\n",
       "      <td>300.0</td>\n",
       "    </tr>\n",
       "    <tr>\n",
       "      <th>cost(Million $)</th>\n",
       "      <td>5.0</td>\n",
       "      <td>260.0</td>\n",
       "      <td>119.373364</td>\n",
       "      <td>100.0</td>\n",
       "      <td>200.0</td>\n",
       "      <td>250.0</td>\n",
       "      <td>350.0</td>\n",
       "      <td>400.0</td>\n",
       "    </tr>\n",
       "    <tr>\n",
       "      <th>Completion Year</th>\n",
       "      <td>5.0</td>\n",
       "      <td>2023.4</td>\n",
       "      <td>1.140175</td>\n",
       "      <td>2022.0</td>\n",
       "      <td>2023.0</td>\n",
       "      <td>2023.0</td>\n",
       "      <td>2024.0</td>\n",
       "      <td>2025.0</td>\n",
       "    </tr>\n",
       "  </tbody>\n",
       "</table>\n",
       "</div>"
      ],
      "text/plain": [
       "                 count    mean         std     min     25%     50%     75%  \\\n",
       "Capacity(MW)       5.0   160.0   96.176920    50.0   100.0   150.0   200.0   \n",
       "cost(Million $)    5.0   260.0  119.373364   100.0   200.0   250.0   350.0   \n",
       "Completion Year    5.0  2023.4    1.140175  2022.0  2023.0  2023.0  2024.0   \n",
       "\n",
       "                    max  \n",
       "Capacity(MW)      300.0  \n",
       "cost(Million $)   400.0  \n",
       "Completion Year  2025.0  "
      ]
     },
     "execution_count": 11,
     "metadata": {},
     "output_type": "execute_result"
    }
   ],
   "source": [
    "project_df.describe().T\n"
   ]
  },
  {
   "cell_type": "markdown",
   "id": "156737fe-f2a5-4618-9ddc-f67833eb99b2",
   "metadata": {},
   "source": [
    "### describe().T\n"
   ]
  },
  {
   "cell_type": "code",
   "execution_count": 12,
   "id": "5718d221-afb7-4d9a-82fb-702f1f60ff5b",
   "metadata": {},
   "outputs": [
    {
     "data": {
      "text/html": [
       "<div>\n",
       "<style scoped>\n",
       "    .dataframe tbody tr th:only-of-type {\n",
       "        vertical-align: middle;\n",
       "    }\n",
       "\n",
       "    .dataframe tbody tr th {\n",
       "        vertical-align: top;\n",
       "    }\n",
       "\n",
       "    .dataframe thead th {\n",
       "        text-align: right;\n",
       "    }\n",
       "</style>\n",
       "<table border=\"1\" class=\"dataframe\">\n",
       "  <thead>\n",
       "    <tr style=\"text-align: right;\">\n",
       "      <th></th>\n",
       "      <th>count</th>\n",
       "      <th>mean</th>\n",
       "      <th>std</th>\n",
       "      <th>min</th>\n",
       "      <th>25%</th>\n",
       "      <th>50%</th>\n",
       "      <th>75%</th>\n",
       "      <th>max</th>\n",
       "    </tr>\n",
       "  </thead>\n",
       "  <tbody>\n",
       "    <tr>\n",
       "      <th>Capacity(MW)</th>\n",
       "      <td>5.0</td>\n",
       "      <td>160.0</td>\n",
       "      <td>96.176920</td>\n",
       "      <td>50.0</td>\n",
       "      <td>100.0</td>\n",
       "      <td>150.0</td>\n",
       "      <td>200.0</td>\n",
       "      <td>300.0</td>\n",
       "    </tr>\n",
       "    <tr>\n",
       "      <th>cost(Million $)</th>\n",
       "      <td>5.0</td>\n",
       "      <td>260.0</td>\n",
       "      <td>119.373364</td>\n",
       "      <td>100.0</td>\n",
       "      <td>200.0</td>\n",
       "      <td>250.0</td>\n",
       "      <td>350.0</td>\n",
       "      <td>400.0</td>\n",
       "    </tr>\n",
       "    <tr>\n",
       "      <th>Completion Year</th>\n",
       "      <td>5.0</td>\n",
       "      <td>2023.4</td>\n",
       "      <td>1.140175</td>\n",
       "      <td>2022.0</td>\n",
       "      <td>2023.0</td>\n",
       "      <td>2023.0</td>\n",
       "      <td>2024.0</td>\n",
       "      <td>2025.0</td>\n",
       "    </tr>\n",
       "  </tbody>\n",
       "</table>\n",
       "</div>"
      ],
      "text/plain": [
       "                 count    mean         std     min     25%     50%     75%  \\\n",
       "Capacity(MW)       5.0   160.0   96.176920    50.0   100.0   150.0   200.0   \n",
       "cost(Million $)    5.0   260.0  119.373364   100.0   200.0   250.0   350.0   \n",
       "Completion Year    5.0  2023.4    1.140175  2022.0  2023.0  2023.0  2024.0   \n",
       "\n",
       "                    max  \n",
       "Capacity(MW)      300.0  \n",
       "cost(Million $)   400.0  \n",
       "Completion Year  2025.0  "
      ]
     },
     "execution_count": 12,
     "metadata": {},
     "output_type": "execute_result"
    }
   ],
   "source": [
    "project_df.describe().T"
   ]
  },
  {
   "cell_type": "markdown",
   "id": "c9d9dcf8-351d-460d-940e-af3a310b3de1",
   "metadata": {},
   "source": [
    "### Access Project Name"
   ]
  },
  {
   "cell_type": "code",
   "execution_count": 15,
   "id": "9e06412f-3b16-42e1-abd3-bf6a00e1f0e0",
   "metadata": {},
   "outputs": [
    {
     "name": "stdout",
     "output_type": "stream",
     "text": [
      "\n",
      " List Of The Projects : \n",
      "0          Solar Farm A\n",
      "1        Wind Turbine X\n",
      "2         Hydropower Y \n",
      "3          Solar Roof B\n",
      "4    Geothermal Plant Z\n",
      "Name: Project, dtype: object\n"
     ]
    }
   ],
   "source": [
    "print(\"\\n List Of The Projects : \")\n",
    "print(project_df[\"Project\"])"
   ]
  },
  {
   "cell_type": "markdown",
   "id": "9637f3de-7dd1-4244-a941-3a633764331f",
   "metadata": {},
   "source": [
    "### Coloums"
   ]
  },
  {
   "cell_type": "code",
   "execution_count": 16,
   "id": "b600a7d9-56bc-431f-8dd1-2e80a7413b33",
   "metadata": {},
   "outputs": [
    {
     "data": {
      "text/plain": [
       "Index(['Project', 'Technology', 'Capacity(MW)', 'cost(Million $)', 'Location',\n",
       "       'Completion Year'],\n",
       "      dtype='object')"
      ]
     },
     "execution_count": 16,
     "metadata": {},
     "output_type": "execute_result"
    }
   ],
   "source": [
    "project_df.columns"
   ]
  },
  {
   "cell_type": "code",
   "execution_count": 17,
   "id": "e8c4adf4-1cf9-4121-93c2-58774c2c3ec7",
   "metadata": {},
   "outputs": [],
   "source": [
    "###shape \n"
   ]
  },
  {
   "cell_type": "code",
   "execution_count": 18,
   "id": "8d21d5ed-414b-458f-9b61-f8c200b41de2",
   "metadata": {},
   "outputs": [
    {
     "data": {
      "text/plain": [
       "(5, 6)"
      ]
     },
     "execution_count": 18,
     "metadata": {},
     "output_type": "execute_result"
    }
   ],
   "source": [
    "project_df.shape\n"
   ]
  },
  {
   "cell_type": "code",
   "execution_count": 19,
   "id": "ffe669da-bf89-4196-a2eb-86a2ea6bd94f",
   "metadata": {},
   "outputs": [
    {
     "data": {
      "text/plain": [
       "[RangeIndex(start=0, stop=5, step=1),\n",
       " Index(['Project', 'Technology', 'Capacity(MW)', 'cost(Million $)', 'Location',\n",
       "        'Completion Year'],\n",
       "       dtype='object')]"
      ]
     },
     "execution_count": 19,
     "metadata": {},
     "output_type": "execute_result"
    }
   ],
   "source": [
    "project_df.axes"
   ]
  },
  {
   "cell_type": "code",
   "execution_count": 21,
   "id": "d78931d1-dc3d-4d4b-8738-5e18b441342b",
   "metadata": {},
   "outputs": [
    {
     "data": {
      "text/plain": [
       "Project            0\n",
       "Technology         0\n",
       "Capacity(MW)       0\n",
       "cost(Million $)    0\n",
       "Location           0\n",
       "Completion Year    0\n",
       "dtype: int64"
      ]
     },
     "execution_count": 21,
     "metadata": {},
     "output_type": "execute_result"
    }
   ],
   "source": [
    "project_df.isnull().sum()"
   ]
  },
  {
   "cell_type": "code",
   "execution_count": 24,
   "id": "6ff438f9-9c88-4737-9b63-053b6118a43c",
   "metadata": {},
   "outputs": [
    {
     "name": "stdout",
     "output_type": "stream",
     "text": [
      "\n",
      "Process With Capacity Greater than 100 MW: \n",
      "          Project  Technology  Capacity(MW)  cost(Million $)    Location  \\\n",
      "0    Solar Farm A       Solar           150              200  California   \n",
      "1  Wind Turbine X        Wind           300              400       Texas   \n",
      "2   Hydropower Y   Hydropower           200              350  Washington   \n",
      "\n",
      "   Completion Year  \n",
      "0             2023  \n",
      "1             2024  \n",
      "2             2022  \n"
     ]
    }
   ],
   "source": [
    "high_capacity_projects=project_df[project_df[\"Capacity(MW)\"]>100]\n",
    "print(\"\\nProcess With Capacity Greater than 100 MW: \")\n",
    "print(high_capacity_projects)\n"
   ]
  },
  {
   "cell_type": "code",
   "execution_count": 28,
   "id": "c66af5d0-39e0-4fa0-ba43-563a1041373a",
   "metadata": {},
   "outputs": [
    {
     "name": "stdout",
     "output_type": "stream",
     "text": [
      "\n",
      " DataFrame with cost per MW\n",
      "              Project  Technology  Capacity(MW)  cost(Million $)    Location  \\\n",
      "0        Solar Farm A       Solar           150              200  California   \n",
      "1      Wind Turbine X        Wind           300              400       Texas   \n",
      "2       Hydropower Y   Hydropower           200              350  Washington   \n",
      "3        Solar Roof B       Solar            50              100      Nevada   \n",
      "4  Geothermal Plant Z  Geothermal           100              250       Idaho   \n",
      "\n",
      "   Completion Year  Cost per MW  \n",
      "0             2023     1.333333  \n",
      "1             2024     1.333333  \n",
      "2             2022     1.750000  \n",
      "3             2025     2.000000  \n",
      "4             2023     2.500000  \n"
     ]
    }
   ],
   "source": [
    "project_df['Cost per MW']=project_df[\"cost(Million $)\"]/project_df[\"Capacity(MW)\"]\n",
    "print(\"\\n DataFrame with cost per MW\")\n",
    "print(project_df)"
   ]
  },
  {
   "cell_type": "code",
   "execution_count": 30,
   "id": "37e21575-860d-4faa-83fd-f9db54e23523",
   "metadata": {},
   "outputs": [
    {
     "name": "stdout",
     "output_type": "stream",
     "text": [
      "\n",
      " Total Capacity of all projects : 800 MW\n",
      "\n",
      " Total Cost of all Projects : $1300 millions\n"
     ]
    }
   ],
   "source": [
    "total_capacity=project_df[\"Capacity(MW)\"].sum()\n",
    "total_cost=project_df[\"cost(Million $)\"].sum()\n",
    "\n",
    "print(f\"\\n Total Capacity of all projects : {total_capacity} MW\")\n",
    "print(f\"\\n Total Cost of all Projects : ${total_cost} millions\")"
   ]
  },
  {
   "cell_type": "code",
   "execution_count": 31,
   "id": "25808469-c2f0-4549-bddf-238cec1d3209",
   "metadata": {},
   "outputs": [
    {
     "name": "stdout",
     "output_type": "stream",
     "text": [
      "\n",
      " Total Capacity by Technology\n",
      "Technology\n",
      "Geothermal    100\n",
      "Hydropower    200\n",
      "Solar         200\n",
      "Wind          300\n",
      "Name: Capacity(MW), dtype: int64\n"
     ]
    }
   ],
   "source": [
    "grouped_data=project_df.groupby(\"Technology\")[\"Capacity(MW)\"].sum()\n",
    "print(\"\\n Total Capacity by Technology\")\n",
    "print(grouped_data)"
   ]
  },
  {
   "cell_type": "code",
   "execution_count": null,
   "id": "5421c2ae-b9ad-48a6-8328-cf1a21d3da46",
   "metadata": {},
   "outputs": [],
   "source": []
  }
 ],
 "metadata": {
  "kernelspec": {
   "display_name": "Python 3 (ipykernel)",
   "language": "python",
   "name": "python3"
  },
  "language_info": {
   "codemirror_mode": {
    "name": "ipython",
    "version": 3
   },
   "file_extension": ".py",
   "mimetype": "text/x-python",
   "name": "python",
   "nbconvert_exporter": "python",
   "pygments_lexer": "ipython3",
   "version": "3.11.7"
  }
 },
 "nbformat": 4,
 "nbformat_minor": 5
}
