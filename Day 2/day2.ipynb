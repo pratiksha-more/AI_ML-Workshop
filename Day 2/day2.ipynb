{
 "cells": [
  {
   "cell_type": "code",
   "execution_count": 1,
   "id": "566d8cf6-ca52-4f39-947f-0ceeced9e8b5",
   "metadata": {},
   "outputs": [
    {
     "name": "stdout",
     "output_type": "stream",
     "text": [
      "Square is:  25\n"
     ]
    }
   ],
   "source": [
    "def find_square(num):\n",
    "        result= num*num\n",
    "        return result\n",
    "    \n",
    "square=find_square(5)\n",
    "print(\"Square is: \",square)"
   ]
  },
  {
   "cell_type": "code",
   "execution_count": 3,
   "id": "2d919ee2-0378-4c21-be1d-ecce8e20a4f4",
   "metadata": {},
   "outputs": [
    {
     "name": "stdout",
     "output_type": "stream",
     "text": [
      "15\n"
     ]
    }
   ],
   "source": [
    "#Lambda Function\n",
    "x=lambda a:a+10\n",
    "print(x(5))"
   ]
  },
  {
   "cell_type": "code",
   "execution_count": 4,
   "id": "54d8318e-5fc7-47a0-8c21-6d91be221b93",
   "metadata": {},
   "outputs": [
    {
     "name": "stdout",
     "output_type": "stream",
     "text": [
      "Energy Consumption: 1000 KWh\n",
      "Emission Factor: 0.475 Kg CO2/KWh\n",
      "Carbon Footprint: 475.0 Kg CO2\n"
     ]
    }
   ],
   "source": [
    "def calculate_carbon_footprint(energy_consumption,emmisio_factor):\n",
    "    return energy_consumption*emmisio_factor\n",
    "\n",
    "energy_consumption=1000\n",
    "emission_factor=0.475\n",
    "print(f\"Energy Consumption: {energy_consumption} KWh\")\n",
    "print(f\"Emission Factor: {emission_factor} Kg CO2/KWh\")\n",
    "\n",
    "Carbon_Footprint=calculate_carbon_footprint(energy_consumption,emission_factor)\n",
    "print(f\"Carbon Footprint: {Carbon_Footprint} Kg CO2\")"
   ]
  },
  {
   "cell_type": "code",
   "execution_count": 5,
   "id": "e5cf2586-d17c-4021-830a-7b2e2763b6a9",
   "metadata": {},
   "outputs": [
    {
     "name": "stdout",
     "output_type": "stream",
     "text": [
      "Sustainable Cities:\n",
      "City B : 350 Kg CO2\n",
      "City D : 200 Kg CO2\n"
     ]
    }
   ],
   "source": [
    "\n",
    "# Use 3: Calculate Carbon Footprint of all cities\n",
    "cities = [\n",
    "    {\"name\": \"City A\", \"carbon_footprint\": 500},\n",
    "    {\"name\": \"City B\", \"carbon_footprint\": 350},\n",
    "    {\"name\": \"City C\", \"carbon_footprint\": 600},\n",
    "    {\"name\": \"City D\", \"carbon_footprint\": 200},\n",
    "    {\"name\": \"City E\", \"carbon_footprint\": 450}\n",
    "]\n",
    "\n",
    "sustainability_threshold = 400\n",
    "sustainable_cities = list(filter(lambda city: city[\"carbon_footprint\"] < sustainability_threshold, cities))\n",
    "\n",
    "print(\"Sustainable Cities:\")\n",
    "for city in sustainable_cities:\n",
    "    print(f\"{city['name']} : {city['carbon_footprint']} Kg CO2\")\n"
   ]
  },
  {
   "cell_type": "code",
   "execution_count": null,
   "id": "bb330cc5-4c01-4b2c-9bb8-ed9c6e8ae601",
   "metadata": {},
   "outputs": [],
   "source": []
  }
 ],
 "metadata": {
  "kernelspec": {
   "display_name": "Python 3 (ipykernel)",
   "language": "python",
   "name": "python3"
  },
  "language_info": {
   "codemirror_mode": {
    "name": "ipython",
    "version": 3
   },
   "file_extension": ".py",
   "mimetype": "text/x-python",
   "name": "python",
   "nbconvert_exporter": "python",
   "pygments_lexer": "ipython3",
   "version": "3.11.7"
  }
 },
 "nbformat": 4,
 "nbformat_minor": 5
}
